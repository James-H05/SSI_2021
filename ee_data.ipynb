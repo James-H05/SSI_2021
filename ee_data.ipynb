{
  "nbformat": 4,
  "nbformat_minor": 0,
  "metadata": {
    "colab": {
      "name": "ee_data.ipynb",
      "provenance": [],
      "collapsed_sections": [],
      "include_colab_link": true
    },
    "kernelspec": {
      "name": "python3",
      "display_name": "Python 3"
    },
    "language_info": {
      "name": "python"
    }
  },
  "cells": [
    {
      "cell_type": "markdown",
      "metadata": {
        "id": "view-in-github",
        "colab_type": "text"
      },
      "source": [
        "<a href=\"https://colab.research.google.com/github/James-H05/SSI_2021/blob/main/ee_data.ipynb\" target=\"_parent\"><img src=\"https://colab.research.google.com/assets/colab-badge.svg\" alt=\"Open In Colab\"/></a>"
      ]
    },
    {
      "cell_type": "code",
      "metadata": {
        "id": "0nnHSLCSVh1D"
      },
      "source": [
        "# import earth engine library - should be installed already in colab\n",
        "import ee"
      ],
      "execution_count": 2,
      "outputs": []
    },
    {
      "cell_type": "code",
      "metadata": {
        "colab": {
          "base_uri": "https://localhost:8080/"
        },
        "id": "--HPrXodaevU",
        "outputId": "093be2e9-3c12-4107-c023-531f6400bc78"
      },
      "source": [
        "# Trigger the authentication flow.\n",
        "ee.Authenticate()\n",
        "\n",
        "# Initialize the library.\n",
        "ee.Initialize()"
      ],
      "execution_count": 3,
      "outputs": [
        {
          "output_type": "stream",
          "text": [
            "To authorize access needed by Earth Engine, open the following URL in a web browser and follow the instructions. If the web browser does not start automatically, please manually browse the URL below.\n",
            "\n",
            "    https://accounts.google.com/o/oauth2/auth?client_id=517222506229-vsmmajv00ul0bs7p89v5m89qs8eb9359.apps.googleusercontent.com&scope=https%3A%2F%2Fwww.googleapis.com%2Fauth%2Fearthengine+https%3A%2F%2Fwww.googleapis.com%2Fauth%2Fdevstorage.full_control&redirect_uri=urn%3Aietf%3Awg%3Aoauth%3A2.0%3Aoob&response_type=code&code_challenge=HP9j_UjB5S8RBbYeNjaPo9Vb_OuVB9pHI_-QD9PLeTM&code_challenge_method=S256\n",
            "\n",
            "The authorization workflow will generate a code, which you should paste in the box below. \n",
            "Enter verification code: 4/1AX4XfWggBQHkHMK1IFNZAM81k8NepgZLUs1AOgXQIS9FUxtcgaa1nAWvqIU\n",
            "\n",
            "Successfully saved authorization token.\n"
          ],
          "name": "stdout"
        }
      ]
    },
    {
      "cell_type": "code",
      "metadata": {
        "id": "Fp4rdpy0eGjx"
      },
      "source": [
        "years = ['1986', '1987', '1988', '1989', '1990', '1991', '1992', '1993', '1994', '1995', '1996', '1997', '1998', '1999', '2000', '2001', '2002', '2003', '2004', '2005', '2006', '2007', '2008', '2009', '2010', '2011', '2012', '2013', '2014', '2015']\n",
        "months = ['01', '02', '03', '04', '05', '06', '07', '08', '09', '10', '11', '12']\n",
        "layers = ['aet', 'def', 'pdsi', 'pet', 'pr', 'ro', 'soil', 'srad', 'swe', 'tmmn', 'tmmx', 'vap', 'vpd', 'vs']\n",
        "countries = ['Austria', 'Belgium', 'Bulgaria', 'Switzerland', 'Cyprus', 'Czech Republic', 'Germany', 'Denmark', 'Estonia', 'Spain', 'Finland', 'France', 'Greece', 'Croatia', 'Hungary', 'Ireland', 'Italy', 'Lithuania', 'Luxemborg', 'Latvia', 'Netherlands', 'Norway', 'Poland', 'Portugal', 'Romania', 'Sweden', 'Slovenia', 'Slovakia', 'United Kingdom']\n",
        "\n",
        "csv = {}\n",
        "\n",
        "for country in countries:\n",
        "  for layer in layers:\n",
        "    csv[country + '_' + layer] = []\n",
        "\n",
        "for year_index in range(len(years)):\n",
        "  for month_index in range(len(months)):\n",
        "    for country in countries:\n",
        "\n",
        "      if(not (year_index == len(years) and month_index == len(months))):\n",
        "        start_date = years[year_index] + '-' + months[month_index] + '-01'\n",
        "        if(months[month_index] != '12'):\n",
        "          end_date = years[year_index] + '-' + months[month_index+1] + '-01'\n",
        "        else: # if december\n",
        "          end_date = years[year_index+1] + '-' + months[0] + '-01'\n",
        "\n",
        "        #TODO make sure it doesn't crash on the very last month\n",
        "\n",
        "        terraclimate = ee.ImageCollection(\"IDAHO_EPSCOR/TERRACLIMATE\").filter(ee.Filter.date(start_date, end_date)).first()\n",
        "        borders = ee.Feature(ee.FeatureCollection('FAO/GAUL/2015/level0').filter(ee.Filter.eq('ADM0_NAME', country)).first())\n",
        "\n",
        "        # Reduce the region. The region parameter is the Feature geometry.\n",
        "        meanDictionary = terraclimate.reduceRegion(\n",
        "          ee.Reducer.mean(),\n",
        "          geometry=borders.geometry(),\n",
        "          scale=30,\n",
        "          maxPixels=100000000,\n",
        "          bestEffort=True\n",
        "        )\n",
        "\n",
        "\n",
        "        # The result is a Dictionary.  Print it.\n",
        "        #print(country, start_date, \":\", meanDictionary.getInfo())\n",
        "        meanDictionary.getInfo()\n",
        "        \n",
        "        for layer in layers:\n",
        "          csv[country + '_' + layer].append(meanDictionary.getInfo()[layer])"
      ],
      "execution_count": null,
      "outputs": []
    }
  ]
}