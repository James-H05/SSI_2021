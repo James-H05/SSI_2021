{
  "nbformat": 4,
  "nbformat_minor": 0,
  "metadata": {
    "colab": {
      "name": "ee_data.ipynb",
      "provenance": [],
      "collapsed_sections": [],
      "authorship_tag": "ABX9TyPj8UjAMEDrRpPekyAyIjgW",
      "include_colab_link": true
    },
    "kernelspec": {
      "name": "python3",
      "display_name": "Python 3"
    },
    "language_info": {
      "name": "python"
    }
  },
  "cells": [
    {
      "cell_type": "markdown",
      "metadata": {
        "id": "view-in-github",
        "colab_type": "text"
      },
      "source": [
        "<a href=\"https://colab.research.google.com/github/James-H05/SSI_2021/blob/main/ee_data.ipynb\" target=\"_parent\"><img src=\"https://colab.research.google.com/assets/colab-badge.svg\" alt=\"Open In Colab\"/></a>"
      ]
    },
    {
      "cell_type": "code",
      "metadata": {
        "id": "0nnHSLCSVh1D"
      },
      "source": [
        "# import earth engine library - should be installed already in colab\n",
        "import ee"
      ],
      "execution_count": 2,
      "outputs": []
    },
    {
      "cell_type": "code",
      "metadata": {
        "colab": {
          "base_uri": "https://localhost:8080/"
        },
        "id": "--HPrXodaevU",
        "outputId": "5ead5a96-332a-449b-e9ff-038daee1f3bf"
      },
      "source": [
        "# Trigger the authentication flow.\n",
        "ee.Authenticate()\n",
        "\n",
        "# Initialize the library.\n",
        "ee.Initialize()"
      ],
      "execution_count": 3,
      "outputs": [
        {
          "output_type": "stream",
          "text": [
            "To authorize access needed by Earth Engine, open the following URL in a web browser and follow the instructions. If the web browser does not start automatically, please manually browse the URL below.\n",
            "\n",
            "    https://accounts.google.com/o/oauth2/auth?client_id=517222506229-vsmmajv00ul0bs7p89v5m89qs8eb9359.apps.googleusercontent.com&scope=https%3A%2F%2Fwww.googleapis.com%2Fauth%2Fearthengine+https%3A%2F%2Fwww.googleapis.com%2Fauth%2Fdevstorage.full_control&redirect_uri=urn%3Aietf%3Awg%3Aoauth%3A2.0%3Aoob&response_type=code&code_challenge=O_kC6AwgHqOKaYYXBtwIyr2WjBQF0fsWmwIwfO3E3pg&code_challenge_method=S256\n",
            "\n",
            "The authorization workflow will generate a code, which you should paste in the box below. \n",
            "Enter verification code: 4/1AX4XfWhcBxVcSk1AHtNI14fA-bVGmG_b64U-Y5uOb1OCwi1kVaobTBQtLVI\n",
            "\n",
            "Successfully saved authorization token.\n"
          ],
          "name": "stdout"
        }
      ]
    },
    {
      "cell_type": "code",
      "metadata": {
        "id": "UJ0BzBMTWCCb"
      },
      "source": [
        "terraclimate = ee.ImageCollection(\"IDAHO_EPSCOR/TERRACLIMATE\").filter(ee.Filter.date('2017-07-01', '2017-08-01')).first()"
      ],
      "execution_count": 21,
      "outputs": []
    },
    {
      "cell_type": "code",
      "metadata": {
        "id": "TtBdOAurZMLi"
      },
      "source": [
        "france_geo = ee.Feature(ee.FeatureCollection('FAO/GAUL/2015/level0')\n",
        "  .filter(ee.Filter.eq('ADM0_NAME', 'France'))\n",
        "  .first())"
      ],
      "execution_count": 22,
      "outputs": []
    },
    {
      "cell_type": "code",
      "metadata": {
        "id": "Fp4rdpy0eGjx",
        "colab": {
          "base_uri": "https://localhost:8080/"
        },
        "outputId": "6b67a939-c1e9-4bc1-b157-eaaccd683345"
      },
      "source": [
        "# Reduce the region. The region parameter is the Feature geometry.\n",
        "meanDictionary = terraclimate.reduceRegion(\n",
        "  ee.Reducer.mean(),\n",
        "  geometry=france_geo.geometry(),\n",
        "  scale=30,\n",
        "  maxPixels=100000000,\n",
        "  bestEffort=True\n",
        ")\n",
        "\n",
        "# The result is a Dictionary.  Print it.\n",
        "print(meanDictionary)"
      ],
      "execution_count": 36,
      "outputs": [
        {
          "output_type": "stream",
          "text": [
            "ee.Dictionary({\n",
            "  \"functionInvocationValue\": {\n",
            "    \"functionName\": \"Image.reduceRegion\",\n",
            "    \"arguments\": {\n",
            "      \"bestEffort\": {\n",
            "        \"constantValue\": true\n",
            "      },\n",
            "      \"geometry\": {\n",
            "        \"functionInvocationValue\": {\n",
            "          \"functionName\": \"Feature.geometry\",\n",
            "          \"arguments\": {\n",
            "            \"feature\": {\n",
            "              \"functionInvocationValue\": {\n",
            "                \"functionName\": \"Collection.first\",\n",
            "                \"arguments\": {\n",
            "                  \"collection\": {\n",
            "                    \"functionInvocationValue\": {\n",
            "                      \"functionName\": \"Collection.filter\",\n",
            "                      \"arguments\": {\n",
            "                        \"collection\": {\n",
            "                          \"functionInvocationValue\": {\n",
            "                            \"functionName\": \"Collection.loadTable\",\n",
            "                            \"arguments\": {\n",
            "                              \"tableId\": {\n",
            "                                \"constantValue\": \"FAO/GAUL/2015/level0\"\n",
            "                              }\n",
            "                            }\n",
            "                          }\n",
            "                        },\n",
            "                        \"filter\": {\n",
            "                          \"functionInvocationValue\": {\n",
            "                            \"functionName\": \"Filter.equals\",\n",
            "                            \"arguments\": {\n",
            "                              \"leftField\": {\n",
            "                                \"constantValue\": \"ADM0_NAME\"\n",
            "                              },\n",
            "                              \"rightValue\": {\n",
            "                                \"constantValue\": \"France\"\n",
            "                              }\n",
            "                            }\n",
            "                          }\n",
            "                        }\n",
            "                      }\n",
            "                    }\n",
            "                  }\n",
            "                }\n",
            "              }\n",
            "            }\n",
            "          }\n",
            "        }\n",
            "      },\n",
            "      \"image\": {\n",
            "        \"functionInvocationValue\": {\n",
            "          \"functionName\": \"Collection.first\",\n",
            "          \"arguments\": {\n",
            "            \"collection\": {\n",
            "              \"functionInvocationValue\": {\n",
            "                \"functionName\": \"Collection.filter\",\n",
            "                \"arguments\": {\n",
            "                  \"collection\": {\n",
            "                    \"functionInvocationValue\": {\n",
            "                      \"functionName\": \"ImageCollection.load\",\n",
            "                      \"arguments\": {\n",
            "                        \"id\": {\n",
            "                          \"constantValue\": \"IDAHO_EPSCOR/TERRACLIMATE\"\n",
            "                        }\n",
            "                      }\n",
            "                    }\n",
            "                  },\n",
            "                  \"filter\": {\n",
            "                    \"functionInvocationValue\": {\n",
            "                      \"functionName\": \"Filter.dateRangeContains\",\n",
            "                      \"arguments\": {\n",
            "                        \"leftValue\": {\n",
            "                          \"functionInvocationValue\": {\n",
            "                            \"functionName\": \"DateRange\",\n",
            "                            \"arguments\": {\n",
            "                              \"end\": {\n",
            "                                \"constantValue\": \"2017-08-01\"\n",
            "                              },\n",
            "                              \"start\": {\n",
            "                                \"constantValue\": \"2017-07-01\"\n",
            "                              }\n",
            "                            }\n",
            "                          }\n",
            "                        },\n",
            "                        \"rightField\": {\n",
            "                          \"constantValue\": \"system:time_start\"\n",
            "                        }\n",
            "                      }\n",
            "                    }\n",
            "                  }\n",
            "                }\n",
            "              }\n",
            "            }\n",
            "          }\n",
            "        }\n",
            "      },\n",
            "      \"maxPixels\": {\n",
            "        \"constantValue\": 100000000\n",
            "      },\n",
            "      \"reducer\": {\n",
            "        \"functionInvocationValue\": {\n",
            "          \"functionName\": \"Reducer.mean\",\n",
            "          \"arguments\": {}\n",
            "        }\n",
            "      },\n",
            "      \"scale\": {\n",
            "        \"constantValue\": 30\n",
            "      }\n",
            "    }\n",
            "  }\n",
            "})\n"
          ],
          "name": "stdout"
        }
      ]
    }
  ]
}